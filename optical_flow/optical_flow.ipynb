{
  "nbformat": 4,
  "nbformat_minor": 0,
  "metadata": {
    "colab": {
      "provenance": [],
      "collapsed_sections": []
    },
    "kernelspec": {
      "name": "python3",
      "display_name": "Python 3"
    },
    "language_info": {
      "name": "python"
    }
  },
  "cells": [
    {
      "cell_type": "markdown",
      "source": [
        "# Optical Flow\n",
        "## The Optical Flow Equation\n",
        "\n",
        "Let $I(x, y, t)$ be the intensity of the pixel at $(x, y)$ at time $t$. Observe what happens\n",
        "at $I(x + dx, y + dy, t + dt)$. Taking a linear approximation, we have\n",
        "\\begin{align*}\n",
        "    I(x + dx, y + dy, t + dt) &\\approx\n",
        "    I(x, y, t) + \\frac{\\partial I}{\\partial x}dx + \\frac{\\partial I}{\\partial y}dy + \\frac{\\partial I}{\\partial t}dt \\\\\n",
        "\\end{align*}\n",
        "Assuming the intensity is constant through this small change,\n",
        "\\begin{align*}\n",
        "    \\frac{\\partial I}{\\partial x}dx + \\frac{\\partial I}{\\partial y}dy + \\frac{\\partial I}{\\partial t}dt &= 0 \\\\\n",
        "    \\frac{\\partial I}{\\partial x}\\frac{dx}{dt} + \\frac{\\partial I}{\\partial y}\\frac{dy}{dt} + \\frac{\\partial I}{\\partial t} &= 0 \\\\\n",
        "    \\nabla I \\cdot \\mathbf{V} = -I_t\n",
        "\\end{align*}\n",
        "where \n",
        "\\begin{align*}\n",
        "    \\mathbf{V} = \\left\\langle \\frac{dx}{dt}, \\frac{dy}{dt}, 0 \\right\\rangle\n",
        "\\end{align*}\n",
        "\n",
        "$\\mathbf{V}$ is the velocity or optical flow.\n",
        "This is an equation with two unknowns, so we need to add constraints to solve it.\n",
        "\n",
        "## Sparse Optical Flow with Lucas-Kanade Method\n",
        "\n",
        "### Harris Corner Detection\n",
        "The Harris corner detector uses a change of intensity function for some shift $(u, v)$ from the position $(x, y$).\n",
        "\\begin{align*}\n",
        "    E(u, v) = \\sum_{x,y}w(x,y)\\left[I(x + u, y + v) - I(x, y)\\right]^2\n",
        "\\end{align*}\n",
        "where $w$ is the window function (either step or Gaussian), $I(x + u, y + v)$\n",
        "is the shifted intensity, and $I(x, y)$ is the intensity. If we perform a linear approximation on the shifted intensity, we find\n",
        "\\begin{align*}\n",
        "    E(u, v) &\\approx \\sum_{x,y}w(x, y)\\left[\\frac{\\partial I}{\\partial x}u + \\frac{\\partial I}{\\partial y}v\\right]^2 \\\\\n",
        "    &=\n",
        "    \\begin{bmatrix}\n",
        "        u & v\n",
        "    \\end{bmatrix}\n",
        "    \\mathbf{M}\n",
        "    \\begin{bmatrix}\n",
        "        u \\\\\n",
        "        v\n",
        "    \\end{bmatrix}\n",
        "\\end{align*}\n",
        "where\n",
        "\\begin{align*}\n",
        "    \\mathbf{M} =\n",
        "    \\sum_{x,y}w(x,y)\n",
        "    \\begin{bmatrix}\n",
        "        I_x^2 & I_xI_y \\\\\n",
        "        I_yI_x & I_y^2\n",
        "    \\end{bmatrix}\n",
        "\\end{align*}\n",
        "Looking at the eigenvalues of $\\mathbf{M}$, the larger $\\lambda$\n",
        "determines the fastest direction of change while the smaller one determines the lowest rate of change.\n",
        "\n",
        "For edges, one eigenvalue will be significantly greater than the other, since change in intensity should be greater in one direction only. For corners, both eigenvalues should be larger and approximately equal. For flat regions, the eigenvalues will be small and $E$ will be nearly constant in all directions.\n",
        "\n",
        "We can use this information to classify reponses using\n",
        "\\begin{align*}\n",
        "    R = \\det \\mathbf{M} - k(\\text{tr}\\, \\mathbf{M})^2\n",
        "\\end{align*}\n",
        "where empirically, $k \\in [0.04, 0.06]$\n",
        "### Shi-Tomasi Detection\n",
        "Shi and Tomasi propose a different scoring function:\n",
        "\\begin{align*}\n",
        "    R = \\min(\\lambda_1, \\lambda_2)\n",
        "\\end{align*}\n",
        "Basically saying that so long as $\\lambda_1$ and $\\lambda_2$ are above a certain threshold, the window will be classified as a corner.\n",
        "\n",
        "### Lucas-Kanade Method\n",
        "Assume that\n",
        "\n",
        "\n",
        "1.   Two consecutive frames are separated by some small $dt$ such that objects do not move a large distance in that time.\n",
        "2.   Textured objects have shades of gray that change smoothly.\n",
        "\n",
        "First, perform Shi-Tomasi detection to find corners. Then, for these corners, look at a 3x3 window around those pixels. We can then assume that all nine points will have the same motion (approximately)\n",
        "\n"
      ],
      "metadata": {
        "id": "eot4AA7-bl4o"
      }
    },
    {
      "cell_type": "code",
      "source": [],
      "metadata": {
        "id": "BSKSE6yZuwVv"
      },
      "execution_count": null,
      "outputs": []
    }
  ]
}